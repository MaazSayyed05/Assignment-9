{
 "cells": [
  {
   "cell_type": "code",
   "execution_count": 2,
   "id": "7aac464f-a4bc-43a4-8b85-c00d26df440a",
   "metadata": {},
   "outputs": [],
   "source": [
    "# Q1\n",
    "# Abstraction: \n",
    "# 1. A process of handling complexity by hiding unnecessary information from the user. \n",
    "# 2. An abstract class can be considered as a blueprint for other classes. \n",
    "# 3. It allows you to create a set of methods that must be created within any child classes built from the abstract class. \n",
    "# 4. A class which contains one or more abstract methods is called an abstract class."
   ]
  },
  {
   "cell_type": "code",
   "execution_count": 5,
   "id": "2a2b1958-72a9-435e-a9ab-07ba4b0a2529",
   "metadata": {},
   "outputs": [],
   "source": [
    "from abc import ABC , abstractmethod"
   ]
  },
  {
   "cell_type": "code",
   "execution_count": 47,
   "id": "f404f910-b948-4571-be18-85628c4bc8e6",
   "metadata": {},
   "outputs": [],
   "source": [
    "class Animal(ABC) :\n",
    "    @abstractmethod\n",
    "    def eats(self):\n",
    "        pass\n",
    "    "
   ]
  },
  {
   "cell_type": "code",
   "execution_count": 30,
   "id": "34757473-91d3-4b5a-8172-701bb41fcb77",
   "metadata": {},
   "outputs": [],
   "source": [
    "class Horse(Animal) :\n",
    "    def eats(self) :\n",
    "        print(\"I eat grass.\")"
   ]
  },
  {
   "cell_type": "code",
   "execution_count": 31,
   "id": "1493c299-afdf-4bb9-859c-eae55d52e680",
   "metadata": {},
   "outputs": [],
   "source": [
    "class Lion(Animal) :\n",
    "    def eats(self) :\n",
    "        print(\"I eat meat.\")"
   ]
  },
  {
   "cell_type": "code",
   "execution_count": 32,
   "id": "173d09dd-8d0e-42c5-bb28-a0fec2f1d7f8",
   "metadata": {},
   "outputs": [],
   "source": [
    "H = Horse()"
   ]
  },
  {
   "cell_type": "code",
   "execution_count": 33,
   "id": "785265c3-66e3-4a94-ac61-7e87fef57222",
   "metadata": {},
   "outputs": [
    {
     "name": "stdout",
     "output_type": "stream",
     "text": [
      "I eat grass.\n"
     ]
    }
   ],
   "source": [
    "H.eats()"
   ]
  },
  {
   "cell_type": "code",
   "execution_count": 34,
   "id": "e8184c16-b58e-4316-bb46-2cb3dd6f672b",
   "metadata": {},
   "outputs": [],
   "source": [
    "L = Lion()"
   ]
  },
  {
   "cell_type": "code",
   "execution_count": 35,
   "id": "381af753-1663-479d-8c63-0cdf46832562",
   "metadata": {},
   "outputs": [
    {
     "name": "stdout",
     "output_type": "stream",
     "text": [
      "I eat meat.\n"
     ]
    }
   ],
   "source": [
    "L.eats()"
   ]
  },
  {
   "cell_type": "code",
   "execution_count": 38,
   "id": "7b1cd569-66ae-43d1-975e-90504dcaa45c",
   "metadata": {},
   "outputs": [
    {
     "ename": "TypeError",
     "evalue": "Can't instantiate abstract class Animal with abstract method eats",
     "output_type": "error",
     "traceback": [
      "\u001b[0;31m---------------------------------------------------------------------------\u001b[0m",
      "\u001b[0;31mTypeError\u001b[0m                                 Traceback (most recent call last)",
      "Cell \u001b[0;32mIn[38], line 1\u001b[0m\n\u001b[0;32m----> 1\u001b[0m A \u001b[38;5;241m=\u001b[39m \u001b[43mAnimal\u001b[49m\u001b[43m(\u001b[49m\u001b[43m)\u001b[49m\n",
      "\u001b[0;31mTypeError\u001b[0m: Can't instantiate abstract class Animal with abstract method eats"
     ]
    }
   ],
   "source": [
    "A = Animal()"
   ]
  },
  {
   "cell_type": "code",
   "execution_count": 39,
   "id": "cf79f4ae-cd8b-46ca-8fe0-294a698f9c5c",
   "metadata": {},
   "outputs": [],
   "source": [
    "# In above example Animal is ABC (Abstract Base Classs) and Horse and Lion is subclass."
   ]
  },
  {
   "cell_type": "code",
   "execution_count": 48,
   "id": "a9e8a955-4676-434e-acf8-483541941055",
   "metadata": {},
   "outputs": [],
   "source": [
    "# Q2\n",
    "# 1. Abstraction is concerned about what a class instance can do, instead of the implementation of the class and Encapsulation helps in data binding and control over maintaining the transparency of the data.\n",
    "# 2. Abstraction mainly focuses on what must be done, whereas encapsulation mainly focuses on how it must be done.\n",
    "# 3. Abstraction is hiding the details and implementation of the code and Encapsulation is hiding the data and controlling the visibility of the code."
   ]
  },
  {
   "cell_type": "code",
   "execution_count": 49,
   "id": "76e3c243-30d1-4132-9f69-b9a76482e95a",
   "metadata": {},
   "outputs": [],
   "source": [
    "# Q3\n",
    "# --> Python comes with a module that provides the base for defining Abstract Base classes(ABC) and that module name is abc. "
   ]
  },
  {
   "cell_type": "code",
   "execution_count": 50,
   "id": "943e834a-5551-46c0-8088-b9ed08bdcedc",
   "metadata": {},
   "outputs": [],
   "source": [
    "# Q4\n",
    "# 1. In Python, abstraction can be achieved by having/using abstract classes and methods in our programs. It is done by using abc module.\n",
    "# 2. ABC works by decorating methods of the base class as abstract and then registering concrete classes as implementations of the abstract base.\n",
    "# 3. A method becomes abstract when decorated with the keyword @abstractmethod."
   ]
  },
  {
   "cell_type": "code",
   "execution_count": null,
   "id": "a36da18f-610b-4ad7-b4a7-7c40a3c06474",
   "metadata": {},
   "outputs": [],
   "source": [
    "# Q5\n",
    "# 1. Abstract classes are incomplete because they have methods that have nobody.\n",
    "# 2. If python allows creating an object for abstract classes then using that object if anyone calls the abstract method, but there is no actual implementation to invoke.\n",
    "# 3. So we use an abstract class as a template and according to the need, we extend it and build on it before we can use it. \n",
    "# 4. Due to the fact, an abstract class is not a concrete class, it cannot be instantiated. \n",
    "# 5. When we create an object for the abstract class it raises an error. "
   ]
  }
 ],
 "metadata": {
  "kernelspec": {
   "display_name": "Python 3 (ipykernel)",
   "language": "python",
   "name": "python3"
  },
  "language_info": {
   "codemirror_mode": {
    "name": "ipython",
    "version": 3
   },
   "file_extension": ".py",
   "mimetype": "text/x-python",
   "name": "python",
   "nbconvert_exporter": "python",
   "pygments_lexer": "ipython3",
   "version": "3.10.8"
  }
 },
 "nbformat": 4,
 "nbformat_minor": 5
}
